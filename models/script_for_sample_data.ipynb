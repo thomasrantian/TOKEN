{
 "cells": [
  {
   "cell_type": "code",
   "execution_count": 2,
   "metadata": {},
   "outputs": [
    {
     "name": "stderr",
     "output_type": "stream",
     "text": [
      "/home/thomas/anaconda3/envs/paradrive/lib/python3.8/site-packages/tqdm/auto.py:21: TqdmWarning: IProgress not found. Please update jupyter and ipywidgets. See https://ipywidgets.readthedocs.io/en/stable/user_install.html\n",
      "  from .autonotebook import tqdm as notebook_tqdm\n"
     ]
    }
   ],
   "source": [
    "full_train_data_path = '/home/thomas/data/planLLM/5_26_planLLM_object_QAs_train_full_reasoning_split.pkl'\n",
    "# Load the data\n",
    "import pickle\n",
    "full_train_data = pickle.load(open(full_train_data_path, 'rb'))\n"
   ]
  },
  {
   "cell_type": "code",
   "execution_count": 3,
   "metadata": {},
   "outputs": [],
   "source": [
    "# Sample 100 examples from the full training data\n",
    "import random\n",
    "random.seed(0)\n",
    "sampled_train_data = random.sample(full_train_data, 100)\n"
   ]
  },
  {
   "cell_type": "code",
   "execution_count": 8,
   "metadata": {},
   "outputs": [],
   "source": [
    "# Save sampled_train_data as a pickle file\n",
    "sampled_train_data_path = '/home/thomas/workspace/Planning-with-LLM/sample_train_data/TOKEN_sample_reasoning_train_ddata.pkl'\n",
    "pickle.dump(sampled_train_data, open(sampled_train_data_path, 'wb'))"
   ]
  },
  {
   "cell_type": "code",
   "execution_count": 4,
   "metadata": {},
   "outputs": [
    {
     "data": {
      "text/plain": [
       "{'observation': {'ego_vehicle_descriptor': tensor([ 1.6355e-05,  1.5449e-07, -5.3693e-04, -4.6786e-04],\n",
       "         dtype=torch.float64),\n",
       "  'agents_descriptors': tensor([[ 0.0000,  0.0000],\n",
       "          [-1.5405, -4.5118],\n",
       "          [ 0.0470,  0.2058],\n",
       "          [ 0.1859, -3.3981],\n",
       "          [ 0.0000,  0.0000],\n",
       "          [ 0.0000,  0.0000],\n",
       "          [ 1.9118, -3.7075],\n",
       "          [ 0.0000,  0.0000],\n",
       "          [ 0.0000,  0.0000],\n",
       "          [ 0.0000,  0.0000],\n",
       "          [ 0.0000,  0.0000],\n",
       "          [ 0.0000,  0.0000],\n",
       "          [ 0.0000,  0.0000],\n",
       "          [ 0.0000,  0.0000],\n",
       "          [ 0.0000,  0.0000],\n",
       "          [ 0.0000,  0.0000],\n",
       "          [ 0.0000,  0.0000],\n",
       "          [ 0.0000,  0.0000],\n",
       "          [ 0.0000,  0.0000],\n",
       "          [ 0.0000,  0.0000],\n",
       "          [ 0.0000,  0.0000],\n",
       "          [ 0.0000,  0.0000],\n",
       "          [ 0.0000,  0.0000],\n",
       "          [ 0.0000,  0.0000],\n",
       "          [ 0.0000,  0.0000],\n",
       "          [ 0.0000,  0.0000],\n",
       "          [ 0.0000,  0.0000],\n",
       "          [ 0.0000,  0.0000],\n",
       "          [ 0.0000,  0.0000],\n",
       "          [ 0.0000,  0.0000]]),\n",
       "  'lane_topo_descriptors': tensor([[0., 0., 0.,  ..., 0., 0., 0.],\n",
       "          [0., 0., 0.,  ..., 0., 0., 0.],\n",
       "          [0., 0., 0.,  ..., 0., 4., 0.],\n",
       "          ...,\n",
       "          [0., 0., 0.,  ..., 0., 0., 0.],\n",
       "          [0., 0., 0.,  ..., 0., 0., 0.],\n",
       "          [0., 0., 0.,  ..., 0., 0., 0.]]),\n",
       "  'lane_geom_descriptors': tensor([[ 20.4260,  -0.1591,   0.7880,  ...,  18.5834,  -0.5694,  -0.8221],\n",
       "          [ 26.3704,   4.4906,   0.7880,  ...,  26.0369,   0.5738,   0.8190],\n",
       "          [-87.8036, -41.3419,   0.5778,  ...,  57.3775,   0.8255,  -0.5645],\n",
       "          ...,\n",
       "          [-23.3266,  53.3861,  -0.8306,  ...,  -5.2023,  -0.7877,   0.6161],\n",
       "          [-42.3300,  -5.2180,   0.5780,  ...,  59.7783,   0.8234,  -0.5674],\n",
       "          [ 23.4257,   2.1873,   0.7882,  ...,  59.7781,   0.8236,  -0.5672]]),\n",
       "  'plan_query': tensor(11946),\n",
       "  'ego_command_descriptors': tensor([2]),\n",
       "  'bev_descriptors': tensor([ 0.,  3.,  4.,  1.,  2.,  5.,  7., -1., -1., -1., -1., -1., -1., -1.,\n",
       "          -1., -1., -1., -1., -1., -1., -1., -1., -1., -1., -1., -1., -1., -1.,\n",
       "          -1., -1.], dtype=torch.float64)},\n",
       " 'frame_num': 3,\n",
       " 'input_prompt': '\\n**Autonomous Driving Planner**\\nYou are the brain of an autonomous vehicle. Your goal is to plan a safe 3-second driving trajectory. \\n',\n",
       " 'response_content': '{\"question\": \"You are the brain of an autonomous vehicle and try to plan a safe and efficient motion. The autonomous vehicle needs to keep forward along the road. What objects are important for the autonomous vehicle\\'s planning? What are these objects, their (x,y) locations? and how to interact with them? Please plan the autonomous vehicle\\'s 3-second future trajectory using 6 waypoints, one every 0.5 second.\", \"answer\": \"There are 3 important objects: car at (0.2, 9.5), truck at (4.1, 27.3), pedestrian at (-1.9, 3.0). It should remain roughly static, and its 3-second future trajectory is: [(-0.0,0.0), (-0.0,0.0), (-0.0,0.0), (-0.0,0.0), (-0.0,0.0), (-0.0,0.0)].\"}'}"
      ]
     },
     "execution_count": 4,
     "metadata": {},
     "output_type": "execute_result"
    }
   ],
   "source": [
    "sampled_train_data[0]\n"
   ]
  },
  {
   "cell_type": "code",
   "execution_count": 5,
   "metadata": {},
   "outputs": [],
   "source": [
    "# remove the input_prompt key from each example\n",
    "object_features_folder_id = []\n",
    "for example in sampled_train_data:\n",
    "    if 'input_prompt' in example:\n",
    "        del example['input_prompt']\n",
    "    sample_token_id = example['observation']['plan_query']\n",
    "    # convert sample_token_id from tensor to int\n",
    "    sample_token_id = sample_token_id.item()\n",
    "    object_features_folder_id.append(sample_token_id)\n",
    "    "
   ]
  },
  {
   "cell_type": "code",
   "execution_count": 6,
   "metadata": {},
   "outputs": [
    {
     "data": {
      "text/plain": [
       "[11946,\n",
       " 8750,\n",
       " 11161,\n",
       " 23454,\n",
       " 10377,\n",
       " 21161,\n",
       " 20169,\n",
       " 2266,\n",
       " 43,\n",
       " 12746,\n",
       " 22337,\n",
       " 4460,\n",
       " 3425,\n",
       " 10212,\n",
       " 4747,\n",
       " 696,\n",
       " 9801,\n",
       " 17923,\n",
       " 17142,\n",
       " 1358,\n",
       " 5284,\n",
       " 4281,\n",
       " 9671,\n",
       " 7593,\n",
       " 4669,\n",
       " 23807,\n",
       " 23588,\n",
       " 2735,\n",
       " 707,\n",
       " 19412,\n",
       " 12482,\n",
       " 15845,\n",
       " 19083,\n",
       " 12140,\n",
       " 17647,\n",
       " 5164,\n",
       " 10870,\n",
       " 18898,\n",
       " 17390,\n",
       " 16034,\n",
       " 21944,\n",
       " 7499,\n",
       " 22525,\n",
       " 5954,\n",
       " 3195,\n",
       " 5113,\n",
       " 4563,\n",
       " 14294,\n",
       " 6473,\n",
       " 15652,\n",
       " 6959,\n",
       " 6045,\n",
       " 2758,\n",
       " 18071,\n",
       " 19883,\n",
       " 11370,\n",
       " 16529,\n",
       " 16688,\n",
       " 22019,\n",
       " 17965,\n",
       " 3777,\n",
       " 12649,\n",
       " 11753,\n",
       " 18361,\n",
       " 1419,\n",
       " 5491,\n",
       " 8943,\n",
       " 803,\n",
       " 15796,\n",
       " 3262,\n",
       " 21034,\n",
       " 8965,\n",
       " 5489,\n",
       " 18332,\n",
       " 7938,\n",
       " 14028,\n",
       " 7190,\n",
       " 11305,\n",
       " 4888,\n",
       " 6314,\n",
       " 15599,\n",
       " 2221,\n",
       " 10201,\n",
       " 1149,\n",
       " 15948,\n",
       " 15544,\n",
       " 17771,\n",
       " 13771,\n",
       " 6280,\n",
       " 17589,\n",
       " 2547,\n",
       " 7695,\n",
       " 12446,\n",
       " 20172,\n",
       " 10516,\n",
       " 5254,\n",
       " 1476,\n",
       " 19874,\n",
       " 18578,\n",
       " 13247]"
      ]
     },
     "execution_count": 6,
     "metadata": {},
     "output_type": "execute_result"
    }
   ],
   "source": [
    "object_features_folder_id"
   ]
  },
  {
   "cell_type": "code",
   "execution_count": 7,
   "metadata": {},
   "outputs": [],
   "source": [
    "source_folder = '/home/thomas/data/planLLM/nuscenes_train_object_feature_3_5/'\n",
    "target_folder = '/home/thomas/workspace/Planning-with-LLM/sample_train_data/cached_object_tokens/'\n",
    "\n",
    "# copy source_folder + object_features_folder_id to target_folder\n",
    "import shutil\n",
    "for folder_id in object_features_folder_id:\n",
    "    source_folder_id = source_folder + str(folder_id)\n",
    "    target_folder_id = target_folder + str(folder_id)\n",
    "    shutil.copytree(source_folder_id, target_folder_id)\n"
   ]
  }
 ],
 "metadata": {
  "kernelspec": {
   "display_name": "paradrive",
   "language": "python",
   "name": "python3"
  },
  "language_info": {
   "codemirror_mode": {
    "name": "ipython",
    "version": 3
   },
   "file_extension": ".py",
   "mimetype": "text/x-python",
   "name": "python",
   "nbconvert_exporter": "python",
   "pygments_lexer": "ipython3",
   "version": "3.8.19"
  }
 },
 "nbformat": 4,
 "nbformat_minor": 2
}
